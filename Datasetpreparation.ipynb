{
 "cells": [
  {
   "cell_type": "code",
   "execution_count": 1,
   "metadata": {},
   "outputs": [],
   "source": [
    "import os"
   ]
  },
  {
   "cell_type": "code",
   "execution_count": 2,
   "metadata": {},
   "outputs": [],
   "source": [
    "from langchain_google_genai import GoogleGenerativeAIEmbeddings\n",
    "from langchain_google_genai import ChatGoogleGenerativeAI\n",
    "from dotenv import load_dotenv\n",
    "load_dotenv()\n",
    "os.environ[\"GOOGLE_API_KEY\"]=os.getenv(\"GOOGLE_API_KEY\")"
   ]
  },
  {
   "cell_type": "code",
   "execution_count": 1,
   "metadata": {},
   "outputs": [],
   "source": [
    "import requests"
   ]
  },
  {
   "cell_type": "code",
   "execution_count": 4,
   "metadata": {},
   "outputs": [],
   "source": [
    "r=requests.get(url=\"https://generativelanguage.googleapis.com/v1/models/gemini-pro:generateContent\")"
   ]
  },
  {
   "cell_type": "code",
   "execution_count": 13,
   "metadata": {},
   "outputs": [
    {
     "name": "stdout",
     "output_type": "stream",
     "text": [
      "Success!\n",
      "b'{\\n  \"candidates\": [\\n    {\\n      \"content\": {\\n        \"parts\": [\\n          {\\n            \"text\": \"1. Traditional Jazz\\\\n2. Bebop\\\\n3. Cool Jazz\\\\n4. Fusion Jazz\\\\n5. Free Jazz\"\\n          }\\n        ],\\n        \"role\": \"model\"\\n      },\\n      \"finishReason\": \"STOP\",\\n      \"index\": 0,\\n      \"safetyRatings\": [\\n        {\\n          \"category\": \"HARM_CATEGORY_SEXUALLY_EXPLICIT\",\\n          \"probability\": \"NEGLIGIBLE\"\\n        },\\n        {\\n          \"category\": \"HARM_CATEGORY_HATE_SPEECH\",\\n          \"probability\": \"NEGLIGIBLE\"\\n        },\\n        {\\n          \"category\": \"HARM_CATEGORY_HARASSMENT\",\\n          \"probability\": \"NEGLIGIBLE\"\\n        },\\n        {\\n          \"category\": \"HARM_CATEGORY_DANGEROUS_CONTENT\",\\n          \"probability\": \"NEGLIGIBLE\"\\n        }\\n      ]\\n    }\\n  ],\\n  \"usageMetadata\": {\\n    \"promptTokenCount\": 8,\\n    \"candidatesTokenCount\": 24,\\n    \"totalTokenCount\": 32\\n  }\\n}\\n'\n"
     ]
    }
   ],
   "source": [
    "import requests\n",
    "import json\n",
    "\n",
    "# Replace 'YOUR_API_KEY' with your actual Gemini API key\n",
    "url = \"https://generativelanguage.googleapis.com/v1/models/gemini-pro:generateContent\"\n",
    "\n",
    "# Define headers\n",
    "headers = {\n",
    "    'Content-Type': 'application/json',\n",
    "    'x-goog-api-key': API_KEY\n",
    "}\n",
    "\n",
    "# Define the payload (the request body)\n",
    "payload = {\n",
    "    \"contents\": [\n",
    "        {\n",
    "            \"role\": \"user\",\n",
    "            \"parts\": [{\"text\": \"Give me five subcategories of jazz\"}]\n",
    "        }\n",
    "    ]\n",
    "}\n",
    "\n",
    "# Send the request\n",
    "response = requests.post(url, headers=headers, data=json.dumps(payload))\n",
    "\n",
    "# Check the response\n",
    "if response.status_code == 200:\n",
    "    print(\"Success!\")\n",
    "    print(response.content)  # Print the response JSON\n",
    "else:\n",
    "    print(f\"Failed with status code {response.status_code}\")\n",
    "    print(response.text)\n"
   ]
  },
  {
   "cell_type": "code",
   "execution_count": 50,
   "metadata": {},
   "outputs": [
    {
     "name": "stdout",
     "output_type": "stream",
     "text": [
      "<Response [200]>\n"
     ]
    }
   ],
   "source": [
    "import requests\n",
    "\n",
    "\n",
    "\n",
    "# Replace 'YOUR_API_KEY' with your actual Gemini API key\n",
    "url = \"https://generativelanguage.googleapis.com/v1/models/gemini-pro:generateContent\"\n",
    "\n",
    "# Define headers\n",
    "headers = {\n",
    "    'Content-Type': 'application/json',\n",
    "    'x-goog-api-key': API_KEY\n",
    "}\n",
    "\n",
    "def create_prompt(chunk):\n",
    "    \"\"\"\n",
    "    Generates a prompt to create Q&A pairs from a text passage.\n",
    "    \"\"\"\n",
    "    prompt = f\"\"\"\n",
    "    You are an expert in the Nepali constitution tasked with creating question-answer pairs from the following passage. \n",
    "    Focus on key facts, important points, and relevant acts mentioned. Ensure the questions clarify the acts, concepts, and their implications.\n",
    "\n",
    "    Format the output as a JSON array of objects, each with 'question' and 'answer' keys. Ensure the JSON is valid .If the paragraph is very important and it need multiple questions answer create too.\n",
    "\n",
    "    Passage: \"{chunk}\"\n",
    "\n",
    "    Output format (in JSON):\n",
    "\n",
    "    [\n",
    "        {{\n",
    "            \"question\": \"Your question here\",\n",
    "            \"answer\": \"The corresponding concise answer.\"\n",
    "        }},\n",
    "        ...\n",
    "    ]\n",
    "    \"\"\"\n",
    "    return prompt\n",
    "\n",
    "# Example passage\n",
    "chunk = \"The Constitution of Nepal establishes the country as a federal democratic republic, defining its structure and key principles.\"\n",
    "\n",
    "# Generate the prompt\n",
    "generated_prompt = create_prompt(chunk)\n",
    "\n",
    "# Construct the payload\n",
    "payload = {\n",
    "    \"contents\": [\n",
    "        {\n",
    "            \"role\": \"user\",\n",
    "            \"parts\": [\n",
    "                {\n",
    "                    \"text\": generated_prompt\n",
    "                }\n",
    "            ]\n",
    "        }\n",
    "    ]\n",
    "}\n",
    "\n",
    "# Send the request\n",
    "response = requests.post(url, headers=headers, json=payload)\n",
    "print(response)"
   ]
  },
  {
   "cell_type": "code",
   "execution_count": 54,
   "metadata": {},
   "outputs": [
    {
     "name": "stdout",
     "output_type": "stream",
     "text": [
      "``` JSON\n",
      "[\n",
      "{\n",
      "    \"question\": \"What's the structure of Nepal according to the constitution?\",\n",
      "    \"answer\": \"Federal democratic republic\"\n",
      "}\n",
      "]\n",
      "```\n"
     ]
    }
   ],
   "source": [
    "response_json = response.json()\n",
    "\n",
    "# Now, extract the text\n",
    "text = response_json['candidates'][0]['content']['parts'][0]['text']\n",
    "print(text)"
   ]
  },
  {
   "cell_type": "code",
   "execution_count": 52,
   "metadata": {},
   "outputs": [
    {
     "data": {
      "text/plain": [
       "{'candidates': [{'content': {'parts': [{'text': '``` JSON\\n[\\n{\\n    \"question\": \"What\\'s the structure of Nepal according to the constitution?\",\\n    \"answer\": \"Federal democratic republic\"\\n}\\n]\\n```'}],\n",
       "    'role': 'model'},\n",
       "   'finishReason': 'STOP',\n",
       "   'index': 0,\n",
       "   'safetyRatings': [{'category': 'HARM_CATEGORY_SEXUALLY_EXPLICIT',\n",
       "     'probability': 'NEGLIGIBLE'},\n",
       "    {'category': 'HARM_CATEGORY_HATE_SPEECH', 'probability': 'NEGLIGIBLE'},\n",
       "    {'category': 'HARM_CATEGORY_HARASSMENT', 'probability': 'NEGLIGIBLE'},\n",
       "    {'category': 'HARM_CATEGORY_DANGEROUS_CONTENT',\n",
       "     'probability': 'NEGLIGIBLE'}]}],\n",
       " 'usageMetadata': {'promptTokenCount': 167,\n",
       "  'candidatesTokenCount': 40,\n",
       "  'totalTokenCount': 207}}"
      ]
     },
     "execution_count": 52,
     "metadata": {},
     "output_type": "execute_result"
    }
   ],
   "source": [
    "response_json"
   ]
  },
  {
   "cell_type": "code",
   "execution_count": null,
   "metadata": {},
   "outputs": [],
   "source": []
  },
  {
   "cell_type": "code",
   "execution_count": null,
   "metadata": {},
   "outputs": [],
   "source": []
  }
 ],
 "metadata": {
  "kernelspec": {
   "display_name": "venv",
   "language": "python",
   "name": "python3"
  },
  "language_info": {
   "codemirror_mode": {
    "name": "ipython",
    "version": 3
   },
   "file_extension": ".py",
   "mimetype": "text/x-python",
   "name": "python",
   "nbconvert_exporter": "python",
   "pygments_lexer": "ipython3",
   "version": "3.12.3"
  }
 },
 "nbformat": 4,
 "nbformat_minor": 2
}
