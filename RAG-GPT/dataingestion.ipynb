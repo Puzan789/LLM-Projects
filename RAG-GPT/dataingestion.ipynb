{
 "cells": [
  {
   "cell_type": "code",
   "execution_count": null,
   "metadata": {},
   "outputs": [],
   "source": [
    "def load_doc():\n",
    "    pass\n",
    "\n",
    "def chunk_doc():\n",
    "    pass\n",
    "\n",
    "def get_The_embeddings():\n",
    "    pass\n",
    "\n",
    "def createcdb():\n",
    "    pass"
   ]
  }
 ],
 "metadata": {
  "language_info": {
   "name": "python"
  }
 },
 "nbformat": 4,
 "nbformat_minor": 2
}
